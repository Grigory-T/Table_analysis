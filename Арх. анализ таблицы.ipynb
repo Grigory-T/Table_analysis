{
 "cells": [
  {
   "cell_type": "markdown",
   "id": "a3748fdf",
   "metadata": {},
   "source": [
    "# Анализа таблиц в Python"
   ]
  },
  {
   "cell_type": "code",
   "execution_count": 1,
   "id": "3664b33c",
   "metadata": {},
   "outputs": [],
   "source": [
    "from pathlib import Path\n",
    "import pandas as pd\n",
    "import numpy as np\n",
    "from itertools import combinations, chain, product, starmap\n",
    "import graphviz\n",
    "import networkx as nx\n",
    "import toolz\n",
    "from collections import Counter, abc\n",
    "from operator import itemgetter"
   ]
  },
  {
   "cell_type": "code",
   "execution_count": 2,
   "id": "65b241c8",
   "metadata": {},
   "outputs": [],
   "source": [
    "rng = np.random.default_rng(42)"
   ]
  },
  {
   "cell_type": "code",
   "execution_count": 3,
   "id": "81615665",
   "metadata": {},
   "outputs": [],
   "source": [
    "def get_candidates(df, n):\n",
    "    rv = []\n",
    "    for cols in combinations(df.columns, n):\n",
    "        cols = list(cols)\n",
    "        if df.shape[0] == df[cols].drop_duplicates().shape[0]:\n",
    "            rv.append(cols)\n",
    "    return rv"
   ]
  },
  {
   "cell_type": "code",
   "execution_count": 4,
   "id": "3106d111",
   "metadata": {},
   "outputs": [],
   "source": [
    "def is_candidate(df, cols):\n",
    "    if not isinstance(cols, (list, pd.Index)):\n",
    "        cols = [cols]\n",
    "    if df.shape[0] == df[cols].drop_duplicates().shape[0]:\n",
    "        return True\n",
    "    else:\n",
    "        return False"
   ]
  },
  {
   "cell_type": "code",
   "execution_count": 5,
   "id": "533d922a",
   "metadata": {},
   "outputs": [],
   "source": [
    "def fd(df, l, r):\n",
    "    if not isinstance(l, list):\n",
    "        l = [l]\n",
    "    if not isinstance(r, list):\n",
    "        r = [r]\n",
    "    \n",
    "    df = df[{*l, *r}].drop_duplicates().dropna()\n",
    "    n = df.shape[0]\n",
    "    fd_l = n == df[l].drop_duplicates().shape[0]\n",
    "    fd_r = n == df[r].drop_duplicates().shape[0]\n",
    "    \n",
    "    return fd_l, fd_r "
   ]
  },
  {
   "cell_type": "code",
   "execution_count": 6,
   "id": "0c385f62",
   "metadata": {},
   "outputs": [],
   "source": [
    "def get_relation_analysis(df, l, r):\n",
    "    if not isinstance(l, list):\n",
    "        l = [l]\n",
    "    if not isinstance(r, list):\n",
    "        r = [r]\n",
    "    \n",
    "    df = df[[*l, *r]].drop_duplicates().dropna()\n",
    "    \n",
    "    l_dict = dict(sorted(Counter(df[l].value_counts().values).items(), key=itemgetter(0), reverse=False))\n",
    "    r_dict = dict(sorted(Counter(df[r].value_counts().values).items(), key=itemgetter(0), reverse=False))\n",
    "    \n",
    "    cart = sum(l_dict.values()) * sum(r_dict.values())\n",
    "    links = sum(k * v for k, v in l_dict.items())\n",
    "    density = links / cart\n",
    "    \n",
    "    l_metric =  l_dict.get(1, 0) / sum(l_dict.values())\n",
    "    r_metric =  r_dict.get(1, 0) / sum(r_dict.values())\n",
    "    \n",
    "    return l_dict, r_dict, round(l_metric, 1), round(r_metric, 1), round(density, 3)"
   ]
  },
  {
   "cell_type": "code",
   "execution_count": 7,
   "id": "85d6e96e",
   "metadata": {},
   "outputs": [],
   "source": [
    "# определяем все FD (наборы из 1 колонки)\n",
    "\n",
    "def get_all_df_len2(df):\n",
    "    l = []\n",
    "    for cols in combinations(df.columns, 2):\n",
    "        fd_rv = fd(df, cols[0], cols[1])\n",
    "        if fd_rv[0] == True:\n",
    "            l.append((cols[0], cols[1]))\n",
    "        if fd_rv[1] == True:\n",
    "            l.append((cols[1], cols[0]))\n",
    "    return l"
   ]
  },
  {
   "cell_type": "code",
   "execution_count": 8,
   "id": "483e9504",
   "metadata": {},
   "outputs": [],
   "source": [
    "def unique_drop(df):\n",
    "    df = df.drop_duplicates().copy()\n",
    "    total_rows = df.shape[0]\n",
    "    d = {}\n",
    "    for col in df.columns:\n",
    "        d[col] = total_rows - df[df.columns.difference([col])].drop_duplicates().shape[0]\n",
    "    return d"
   ]
  },
  {
   "cell_type": "code",
   "execution_count": 9,
   "id": "965a809c",
   "metadata": {},
   "outputs": [],
   "source": [
    "def data_model(df):\n",
    "    return df.groupby(df.isna().applymap(lambda el: el*1).agg(tuple, axis=1)).size()"
   ]
  },
  {
   "cell_type": "code",
   "execution_count": 10,
   "id": "f804c6f8",
   "metadata": {},
   "outputs": [],
   "source": [
    "# check_2NF\n",
    "\n",
    "# часть ключа не может определять неключевой столбец\n",
    "# предполагается что ключ один, он составной\n",
    "# только fd длиной один анализируем"
   ]
  },
  {
   "cell_type": "code",
   "execution_count": 11,
   "id": "fd29cdde",
   "metadata": {},
   "outputs": [],
   "source": [
    "# check_3NF\n",
    "\n",
    "# между неключевыми столбцами не может быть fd"
   ]
  },
  {
   "cell_type": "code",
   "execution_count": 12,
   "id": "368f4cfc",
   "metadata": {},
   "outputs": [],
   "source": [
    "def classic_blanks(df, l, r):\n",
    "    df = df[[l, r]].drop_duplicates()\n",
    "\n",
    "    l_blank_opposite = set(df[df[l].isna()][r].values)\n",
    "    r_one_degree = set(toolz.dicttoolz.valfilter(lambda v: v == 1, df[r].value_counts().to_dict()).keys())\n",
    "    l_blank_type = r_one_degree > l_blank_opposite if l_blank_opposite else 'no blank'\n",
    "\n",
    "    r_blank_opposite = set(df[df[r].isna()][l].values)\n",
    "    l_one_degree = set(toolz.dicttoolz.valfilter(lambda v: v == 1, df[l].value_counts().to_dict()).keys())\n",
    "    r_blank_type = l_one_degree > r_blank_opposite if r_blank_opposite else 'no blank'\n",
    "\n",
    "    return l_blank_type, r_blank_type"
   ]
  },
  {
   "cell_type": "code",
   "execution_count": null,
   "id": "70b06d0b",
   "metadata": {},
   "outputs": [],
   "source": []
  },
  {
   "cell_type": "markdown",
   "id": "a7bf2e0d",
   "metadata": {},
   "source": [
    "# Обзорный анализ таблицы"
   ]
  },
  {
   "cell_type": "code",
   "execution_count": 13,
   "id": "e1f460d3",
   "metadata": {},
   "outputs": [],
   "source": [
    "# https://www.kaggle.com/datasets/ad043santhoshs/sales-domain"
   ]
  },
  {
   "cell_type": "code",
   "execution_count": 14,
   "id": "116b71da",
   "metadata": {},
   "outputs": [],
   "source": [
    "# читаем таблицу\n",
    "\n",
    "for p in Path.cwd().iterdir():\n",
    "    if p.name.endswith('.csv'):\n",
    "        globals()[p.stem] = pd.read_csv(p)"
   ]
  },
  {
   "cell_type": "code",
   "execution_count": 70,
   "id": "65c23c80",
   "metadata": {},
   "outputs": [],
   "source": [
    "df = Sales_domain.copy()"
   ]
  },
  {
   "cell_type": "code",
   "execution_count": 16,
   "id": "5624ebd4",
   "metadata": {},
   "outputs": [
    {
     "data": {
      "text/plain": [
       "('1_048_575', 20)"
      ]
     },
     "execution_count": 16,
     "metadata": {},
     "output_type": "execute_result"
    }
   ],
   "source": [
    "# таблица влезет в Excel :)\n",
    "# Общее количество строк и столбцов на листе 1 048 576 строк и 16 384 столбца\n",
    "\n",
    "f'{df.shape[0]:_}', df.shape[1]"
   ]
  },
  {
   "cell_type": "code",
   "execution_count": 17,
   "id": "9b3e4c2c",
   "metadata": {},
   "outputs": [
    {
     "data": {
      "text/html": [
       "<div>\n",
       "<style scoped>\n",
       "    .dataframe tbody tr th:only-of-type {\n",
       "        vertical-align: middle;\n",
       "    }\n",
       "\n",
       "    .dataframe tbody tr th {\n",
       "        vertical-align: top;\n",
       "    }\n",
       "\n",
       "    .dataframe thead th {\n",
       "        text-align: right;\n",
       "    }\n",
       "</style>\n",
       "<table border=\"1\" class=\"dataframe\">\n",
       "  <thead>\n",
       "    <tr style=\"text-align: right;\">\n",
       "      <th></th>\n",
       "      <th>Date</th>\n",
       "      <th>product_code</th>\n",
       "      <th>customer_code</th>\n",
       "      <th>sold_quantity</th>\n",
       "      <th>fiscal_year</th>\n",
       "      <th>division</th>\n",
       "      <th>segment</th>\n",
       "      <th>category</th>\n",
       "      <th>product</th>\n",
       "      <th>variant</th>\n",
       "      <th>customer</th>\n",
       "      <th>platform</th>\n",
       "      <th>channel</th>\n",
       "      <th>market</th>\n",
       "      <th>sub_zone</th>\n",
       "      <th>region</th>\n",
       "      <th>gross_price</th>\n",
       "      <th>cost_year</th>\n",
       "      <th>manufacturing_cost</th>\n",
       "      <th>pre_invoice_discount_pct</th>\n",
       "    </tr>\n",
       "  </thead>\n",
       "  <tbody>\n",
       "    <tr>\n",
       "      <th>272307</th>\n",
       "      <td>01-02-2020</td>\n",
       "      <td>A0118150103</td>\n",
       "      <td>90018106</td>\n",
       "      <td>14</td>\n",
       "      <td>2020</td>\n",
       "      <td>P &amp; A</td>\n",
       "      <td>Peripherals</td>\n",
       "      <td>Internal HDD</td>\n",
       "      <td>AQ Dracula HDD � 3.5 Inch SATA 6 Gb/s 5400 RPM...</td>\n",
       "      <td>Premium</td>\n",
       "      <td>Flipkart</td>\n",
       "      <td>E-Commerce</td>\n",
       "      <td>Retailer</td>\n",
       "      <td>Spain</td>\n",
       "      <td>SE</td>\n",
       "      <td>EU</td>\n",
       "      <td>19.3630</td>\n",
       "      <td>2022</td>\n",
       "      <td>7.1831</td>\n",
       "      <td>0.2961</td>\n",
       "    </tr>\n",
       "    <tr>\n",
       "      <th>916812</th>\n",
       "      <td>01-02-2019</td>\n",
       "      <td>A0418150103</td>\n",
       "      <td>70008169</td>\n",
       "      <td>23</td>\n",
       "      <td>2019</td>\n",
       "      <td>P &amp; A</td>\n",
       "      <td>Peripherals</td>\n",
       "      <td>Graphic Card</td>\n",
       "      <td>AQ Mforce Gen X</td>\n",
       "      <td>Standard 3</td>\n",
       "      <td>Atliq Exclusive</td>\n",
       "      <td>Brick &amp; Mortar</td>\n",
       "      <td>Direct</td>\n",
       "      <td>Australia</td>\n",
       "      <td>ANZ</td>\n",
       "      <td>APAC</td>\n",
       "      <td>17.4436</td>\n",
       "      <td>2020</td>\n",
       "      <td>5.3448</td>\n",
       "      <td>0.0748</td>\n",
       "    </tr>\n",
       "    <tr>\n",
       "      <th>629615</th>\n",
       "      <td>01-04-2019</td>\n",
       "      <td>A0219150202</td>\n",
       "      <td>70023032</td>\n",
       "      <td>21</td>\n",
       "      <td>2019</td>\n",
       "      <td>P &amp; A</td>\n",
       "      <td>Peripherals</td>\n",
       "      <td>Internal HDD</td>\n",
       "      <td>AQ WereWolf NAS Internal Hard Drive HDD � 8.89 cm</td>\n",
       "      <td>Plus</td>\n",
       "      <td>Atliq e Store</td>\n",
       "      <td>E-Commerce</td>\n",
       "      <td>Direct</td>\n",
       "      <td>Canada</td>\n",
       "      <td>NaN</td>\n",
       "      <td>NaN</td>\n",
       "      <td>20.8223</td>\n",
       "      <td>2020</td>\n",
       "      <td>7.0590</td>\n",
       "      <td>0.2911</td>\n",
       "    </tr>\n",
       "  </tbody>\n",
       "</table>\n",
       "</div>"
      ],
      "text/plain": [
       "              Date product_code  customer_code  sold_quantity  fiscal_year  \\\n",
       "272307  01-02-2020  A0118150103       90018106             14         2020   \n",
       "916812  01-02-2019  A0418150103       70008169             23         2019   \n",
       "629615  01-04-2019  A0219150202       70023032             21         2019   \n",
       "\n",
       "       division      segment      category  \\\n",
       "272307    P & A  Peripherals  Internal HDD   \n",
       "916812    P & A  Peripherals  Graphic Card   \n",
       "629615    P & A  Peripherals  Internal HDD   \n",
       "\n",
       "                                                  product     variant  \\\n",
       "272307  AQ Dracula HDD � 3.5 Inch SATA 6 Gb/s 5400 RPM...     Premium   \n",
       "916812                                    AQ Mforce Gen X  Standard 3   \n",
       "629615  AQ WereWolf NAS Internal Hard Drive HDD � 8.89 cm        Plus   \n",
       "\n",
       "               customer        platform   channel     market sub_zone region  \\\n",
       "272307         Flipkart      E-Commerce  Retailer      Spain       SE     EU   \n",
       "916812  Atliq Exclusive  Brick & Mortar    Direct  Australia      ANZ   APAC   \n",
       "629615    Atliq e Store      E-Commerce    Direct     Canada      NaN    NaN   \n",
       "\n",
       "        gross_price  cost_year  manufacturing_cost  pre_invoice_discount_pct  \n",
       "272307      19.3630       2022              7.1831                    0.2961  \n",
       "916812      17.4436       2020              5.3448                    0.0748  \n",
       "629615      20.8223       2020              7.0590                    0.2911  "
      ]
     },
     "execution_count": 17,
     "metadata": {},
     "output_type": "execute_result"
    }
   ],
   "source": [
    "# посмотрим на табилцу\n",
    "\n",
    "df.sample(3)"
   ]
  },
  {
   "cell_type": "code",
   "execution_count": 18,
   "id": "aeaba119",
   "metadata": {},
   "outputs": [
    {
     "data": {
      "text/html": [
       "<div>\n",
       "<style scoped>\n",
       "    .dataframe tbody tr th:only-of-type {\n",
       "        vertical-align: middle;\n",
       "    }\n",
       "\n",
       "    .dataframe tbody tr th {\n",
       "        vertical-align: top;\n",
       "    }\n",
       "\n",
       "    .dataframe thead th {\n",
       "        text-align: right;\n",
       "    }\n",
       "</style>\n",
       "<table border=\"1\" class=\"dataframe\">\n",
       "  <thead>\n",
       "    <tr style=\"text-align: right;\">\n",
       "      <th></th>\n",
       "      <th>348754</th>\n",
       "      <th>560902</th>\n",
       "      <th>52244</th>\n",
       "    </tr>\n",
       "  </thead>\n",
       "  <tbody>\n",
       "    <tr>\n",
       "      <th>Date</th>\n",
       "      <td>01-10-2021</td>\n",
       "      <td>01-02-2020</td>\n",
       "      <td>01-03-2020</td>\n",
       "    </tr>\n",
       "    <tr>\n",
       "      <th>product_code</th>\n",
       "      <td>A0118150103</td>\n",
       "      <td>A0219150201</td>\n",
       "      <td>A0118150101</td>\n",
       "    </tr>\n",
       "    <tr>\n",
       "      <th>customer_code</th>\n",
       "      <td>90015148</td>\n",
       "      <td>90015150</td>\n",
       "      <td>70023032</td>\n",
       "    </tr>\n",
       "    <tr>\n",
       "      <th>sold_quantity</th>\n",
       "      <td>249</td>\n",
       "      <td>7</td>\n",
       "      <td>15</td>\n",
       "    </tr>\n",
       "    <tr>\n",
       "      <th>fiscal_year</th>\n",
       "      <td>2022</td>\n",
       "      <td>2020</td>\n",
       "      <td>2020</td>\n",
       "    </tr>\n",
       "    <tr>\n",
       "      <th>division</th>\n",
       "      <td>P &amp; A</td>\n",
       "      <td>P &amp; A</td>\n",
       "      <td>P &amp; A</td>\n",
       "    </tr>\n",
       "    <tr>\n",
       "      <th>segment</th>\n",
       "      <td>Peripherals</td>\n",
       "      <td>Peripherals</td>\n",
       "      <td>Peripherals</td>\n",
       "    </tr>\n",
       "    <tr>\n",
       "      <th>category</th>\n",
       "      <td>Internal HDD</td>\n",
       "      <td>Internal HDD</td>\n",
       "      <td>Internal HDD</td>\n",
       "    </tr>\n",
       "    <tr>\n",
       "      <th>product</th>\n",
       "      <td>AQ Dracula HDD �...</td>\n",
       "      <td>AQ WereWolf NAS ...</td>\n",
       "      <td>AQ Dracula HDD �...</td>\n",
       "    </tr>\n",
       "    <tr>\n",
       "      <th>variant</th>\n",
       "      <td>Premium</td>\n",
       "      <td>Standard</td>\n",
       "      <td>Standard</td>\n",
       "    </tr>\n",
       "    <tr>\n",
       "      <th>customer</th>\n",
       "      <td>Boulanger</td>\n",
       "      <td>Amazon</td>\n",
       "      <td>Atliq e Store</td>\n",
       "    </tr>\n",
       "    <tr>\n",
       "      <th>platform</th>\n",
       "      <td>Brick &amp; Mortar</td>\n",
       "      <td>E-Commerce</td>\n",
       "      <td>E-Commerce</td>\n",
       "    </tr>\n",
       "    <tr>\n",
       "      <th>channel</th>\n",
       "      <td>Retailer</td>\n",
       "      <td>Retailer</td>\n",
       "      <td>Direct</td>\n",
       "    </tr>\n",
       "    <tr>\n",
       "      <th>market</th>\n",
       "      <td>Norway</td>\n",
       "      <td>Norway</td>\n",
       "      <td>Canada</td>\n",
       "    </tr>\n",
       "    <tr>\n",
       "      <th>sub_zone</th>\n",
       "      <td>NE</td>\n",
       "      <td>NE</td>\n",
       "      <td>NaN</td>\n",
       "    </tr>\n",
       "    <tr>\n",
       "      <th>region</th>\n",
       "      <td>EU</td>\n",
       "      <td>EU</td>\n",
       "      <td>NaN</td>\n",
       "    </tr>\n",
       "    <tr>\n",
       "      <th>gross_price</th>\n",
       "      <td>19.363</td>\n",
       "      <td>23.6987</td>\n",
       "      <td>14.4392</td>\n",
       "    </tr>\n",
       "    <tr>\n",
       "      <th>cost_year</th>\n",
       "      <td>2019</td>\n",
       "      <td>2019</td>\n",
       "      <td>2018</td>\n",
       "    </tr>\n",
       "    <tr>\n",
       "      <th>manufacturing_cost</th>\n",
       "      <td>5.5306</td>\n",
       "      <td>5.725</td>\n",
       "      <td>4.619</td>\n",
       "    </tr>\n",
       "    <tr>\n",
       "      <th>pre_invoice_discount_pct</th>\n",
       "      <td>0.1969</td>\n",
       "      <td>0.2237</td>\n",
       "      <td>0.3066</td>\n",
       "    </tr>\n",
       "  </tbody>\n",
       "</table>\n",
       "</div>"
      ],
      "text/plain": [
       "                                   348754               560902  \\\n",
       "Date                           01-10-2021           01-02-2020   \n",
       "product_code                  A0118150103          A0219150201   \n",
       "customer_code                    90015148             90015150   \n",
       "sold_quantity                         249                    7   \n",
       "fiscal_year                          2022                 2020   \n",
       "division                            P & A                P & A   \n",
       "segment                       Peripherals          Peripherals   \n",
       "category                     Internal HDD         Internal HDD   \n",
       "product               AQ Dracula HDD �...  AQ WereWolf NAS ...   \n",
       "variant                           Premium             Standard   \n",
       "customer                        Boulanger              Amazon    \n",
       "platform                   Brick & Mortar           E-Commerce   \n",
       "channel                          Retailer             Retailer   \n",
       "market                             Norway               Norway   \n",
       "sub_zone                               NE                   NE   \n",
       "region                                 EU                   EU   \n",
       "gross_price                        19.363              23.6987   \n",
       "cost_year                            2019                 2019   \n",
       "manufacturing_cost                 5.5306                5.725   \n",
       "pre_invoice_disco...               0.1969               0.2237   \n",
       "\n",
       "                                   52244   \n",
       "Date                           01-03-2020  \n",
       "product_code                  A0118150101  \n",
       "customer_code                    70023032  \n",
       "sold_quantity                          15  \n",
       "fiscal_year                          2020  \n",
       "division                            P & A  \n",
       "segment                       Peripherals  \n",
       "category                     Internal HDD  \n",
       "product               AQ Dracula HDD �...  \n",
       "variant                          Standard  \n",
       "customer                    Atliq e Store  \n",
       "platform                       E-Commerce  \n",
       "channel                            Direct  \n",
       "market                             Canada  \n",
       "sub_zone                              NaN  \n",
       "region                                NaN  \n",
       "gross_price                       14.4392  \n",
       "cost_year                            2018  \n",
       "manufacturing_cost                  4.619  \n",
       "pre_invoice_disco...               0.3066  "
      ]
     },
     "metadata": {},
     "output_type": "display_data"
    }
   ],
   "source": [
    "# анализ трех рандомных строк\n",
    "# получить общую картину о содержимом\n",
    "\n",
    "with pd.option_context('max_colwidth', 20):\n",
    "    display(df.sample(3).T)"
   ]
  },
  {
   "cell_type": "code",
   "execution_count": 19,
   "id": "d91ca900",
   "metadata": {},
   "outputs": [
    {
     "data": {
      "text/plain": [
       "{float, int, str}"
      ]
     },
     "execution_count": 19,
     "metadata": {},
     "output_type": "execute_result"
    }
   ],
   "source": [
    "# смотрим на типы данных в теле\n",
    "\n",
    "body_dtypes = set(chain.from_iterable(df.applymap(type).agg(set).values))\n",
    "body_dtypes"
   ]
  },
  {
   "cell_type": "code",
   "execution_count": 20,
   "id": "a5b3a29b",
   "metadata": {},
   "outputs": [
    {
     "data": {
      "text/html": [
       "<div>\n",
       "<style scoped>\n",
       "    .dataframe tbody tr th:only-of-type {\n",
       "        vertical-align: middle;\n",
       "    }\n",
       "\n",
       "    .dataframe tbody tr th {\n",
       "        vertical-align: top;\n",
       "    }\n",
       "\n",
       "    .dataframe thead th {\n",
       "        text-align: right;\n",
       "    }\n",
       "</style>\n",
       "<table border=\"1\" class=\"dataframe\">\n",
       "  <thead>\n",
       "    <tr style=\"text-align: right;\">\n",
       "      <th></th>\n",
       "      <th>&lt;class 'collections.abc.Sized'&gt;</th>\n",
       "      <th>&lt;class 'collections.abc.Iterable'&gt;</th>\n",
       "      <th>&lt;class 'collections.abc.Container'&gt;</th>\n",
       "      <th>&lt;class 'collections.abc.Hashable'&gt;</th>\n",
       "    </tr>\n",
       "  </thead>\n",
       "  <tbody>\n",
       "    <tr>\n",
       "      <th>&lt;class 'str'&gt;</th>\n",
       "      <td>True</td>\n",
       "      <td>True</td>\n",
       "      <td>True</td>\n",
       "      <td>True</td>\n",
       "    </tr>\n",
       "    <tr>\n",
       "      <th>&lt;class 'float'&gt;</th>\n",
       "      <td>False</td>\n",
       "      <td>False</td>\n",
       "      <td>False</td>\n",
       "      <td>True</td>\n",
       "    </tr>\n",
       "    <tr>\n",
       "      <th>&lt;class 'int'&gt;</th>\n",
       "      <td>False</td>\n",
       "      <td>False</td>\n",
       "      <td>False</td>\n",
       "      <td>True</td>\n",
       "    </tr>\n",
       "  </tbody>\n",
       "</table>\n",
       "</div>"
      ],
      "text/plain": [
       "                 <class 'collections.abc.Sized'>  \\\n",
       "<class 'str'>                               True   \n",
       "<class 'float'>                            False   \n",
       "<class 'int'>                              False   \n",
       "\n",
       "                 <class 'collections.abc.Iterable'>  \\\n",
       "<class 'str'>                                  True   \n",
       "<class 'float'>                               False   \n",
       "<class 'int'>                                 False   \n",
       "\n",
       "                 <class 'collections.abc.Container'>  \\\n",
       "<class 'str'>                                   True   \n",
       "<class 'float'>                                False   \n",
       "<class 'int'>                                  False   \n",
       "\n",
       "                 <class 'collections.abc.Hashable'>  \n",
       "<class 'str'>                                  True  \n",
       "<class 'float'>                                True  \n",
       "<class 'int'>                                  True  "
      ]
     },
     "execution_count": 20,
     "metadata": {},
     "output_type": "execute_result"
    }
   ],
   "source": [
    "# Неатомарные типы наследуют от Sized, Iterable, Container\n",
    "# https://docs.python.org/3/library/collections.abc.html\n",
    "    \n",
    "body_dtypes\n",
    "abc_class = [abc.Sized, abc.Iterable, abc.Container, abc.Hashable]\n",
    "prod = list(product(body_dtypes, abc_class))\n",
    "data = list(starmap(issubclass, prod))\n",
    "\n",
    "(\n",
    "pd\n",
    ".DataFrame(data=data, index=pd.MultiIndex.from_tuples(prod))\n",
    ".unstack()\n",
    ".loc[:, pd.IndexSlice[0]]\n",
    ")"
   ]
  },
  {
   "cell_type": "code",
   "execution_count": 21,
   "id": "e6c19cbd",
   "metadata": {},
   "outputs": [
    {
     "name": "stdout",
     "output_type": "stream",
     "text": [
      "s__o__m__e__ __s__t__r__i__n__g__\n",
      "\n",
      "['g', 'n', 'i', 'r', 't', 's', ' ', 'e', 'm', 'o', 's']\n"
     ]
    }
   ],
   "source": [
    "# доказываем что строка - может выступать как неатомарный контейнер\n",
    "\n",
    "s = 'some string'\n",
    "for i in s:\n",
    "    print(i, end='__')\n",
    "print('\\n')\n",
    "print(list(reversed(s)))"
   ]
  },
  {
   "cell_type": "code",
   "execution_count": 22,
   "id": "c2ae665a",
   "metadata": {},
   "outputs": [
    {
     "name": "stdout",
     "output_type": "stream",
     "text": [
      "Date                      52     >>>  ['01-09-2017', '01-10-2017', '01-11-2017', '01-12-2017', '01-01-2018']\n",
      "product_code              14     >>>  ['A0118150101', 'A0118150102', 'A0118150103', 'A0118150104', 'A0219150201']\n",
      "customer_code             209    >>>  [70002017, 70002018, 70003181, 70003182, 70006157]\n",
      "sold_quantity             1089   >>>  [51, 54, 30, 77, 53]\n",
      "fiscal_year               5      >>>  [2018, 2019, 2020, 2021, 2022]\n",
      "division                  1      >>>  ['P & A']\n",
      "segment                   1      >>>  ['Peripherals']\n",
      "category                  2      >>>  ['Internal HDD', 'Graphic Card']\n",
      "product                   4      >>>  ['AQ Dracula HDD � 3.5 Inch SATA 6 Gb/s 5400 RPM 256 MB Cache', 'AQ WereWolf NAS Internal Hard Drive HDD � 8.89 cm', 'AQ Zion Saga', 'AQ Mforce Gen X']\n",
      "variant                   8      >>>  ['Standard', 'Plus', 'Premium', 'Premium Plus', 'Standard 1']\n",
      "customer                  75     >>>  ['Atliq Exclusive', 'Atliq e Store', 'Neptune', 'Synthetic', 'Novus']\n",
      "platform                  2      >>>  ['Brick & Mortar', 'E-Commerce']\n",
      "channel                   3      >>>  ['Direct', 'Distributor', 'Retailer']\n",
      "market                    27     >>>  ['India', 'Indonesia', 'Philiphines', 'South Korea', 'Australia']\n",
      "sub_zone                  7      >>>  ['India', 'ROA', 'ANZ', 'SE', 'NE']\n",
      "region                    4      >>>  ['APAC', 'EU', nan, 'LATAM']\n",
      "gross_price               52     >>>  [15.3952, 14.4392, 16.2323, 19.0573, 19.5875]\n",
      "cost_year                 5      >>>  [2018, 2019, 2020, 2021, 2022]\n",
      "manufacturing_cost        51     >>>  [4.619, 4.2033, 5.0207, 5.5172, 5.6036]\n",
      "pre_invoice_discount_pct  676    >>>  [0.0824, 0.2956, 0.0536, 0.2378, 0.1057]\n",
      "Wall time: 2.13 s\n"
     ]
    }
   ],
   "source": [
    "%%time\n",
    "# смотрим на уникальные значения в столбцах\n",
    "\n",
    "for col in df.columns:\n",
    "    print(f'{col:<25}', f'{len(list(df[col].unique())):<5}', ' >>> ', list(df[col].unique())[:5])\n",
    "\n",
    "# есть столбцы с одним элементом\n",
    "# в названии продукта проблемы с кодировкой"
   ]
  },
  {
   "cell_type": "code",
   "execution_count": 23,
   "id": "f2c43cd8",
   "metadata": {},
   "outputs": [
    {
     "data": {
      "text/plain": [
       "Date                          52\n",
       "product_code                  14\n",
       "customer_code                209\n",
       "sold_quantity               1089\n",
       "fiscal_year                    5\n",
       "division                       1\n",
       "segment                        1\n",
       "category                       2\n",
       "product                        4\n",
       "variant                        8\n",
       "customer                      75\n",
       "platform                       2\n",
       "channel                        3\n",
       "market                        27\n",
       "sub_zone                       6\n",
       "region                         3\n",
       "gross_price                   52\n",
       "cost_year                      5\n",
       "manufacturing_cost            51\n",
       "pre_invoice_discount_pct     676\n",
       "dtype: int64"
      ]
     },
     "execution_count": 23,
     "metadata": {},
     "output_type": "execute_result"
    }
   ],
   "source": [
    "df.nunique()"
   ]
  },
  {
   "cell_type": "code",
   "execution_count": 24,
   "id": "e08b367f",
   "metadata": {},
   "outputs": [
    {
     "data": {
      "text/plain": [
       "True"
      ]
     },
     "execution_count": 24,
     "metadata": {},
     "output_type": "execute_result"
    }
   ],
   "source": [
    "# проверяем, что нет полных дубликатов\n",
    "\n",
    "is_candidate(df, df.columns)"
   ]
  },
  {
   "cell_type": "code",
   "execution_count": 25,
   "id": "190a29b0",
   "metadata": {},
   "outputs": [
    {
     "data": {
      "text/plain": [
       "(True, True)"
      ]
     },
     "execution_count": 25,
     "metadata": {},
     "output_type": "execute_result"
    }
   ],
   "source": [
    "# желательно, чтобы индексы были униклаьные\n",
    "\n",
    "df.index.is_unique, df.columns.is_unique"
   ]
  },
  {
   "cell_type": "code",
   "execution_count": 26,
   "id": "b8ee48b5",
   "metadata": {},
   "outputs": [
    {
     "data": {
      "text/plain": [
       "True"
      ]
     },
     "execution_count": 26,
     "metadata": {},
     "output_type": "execute_result"
    }
   ],
   "source": [
    "# есть ли бленки (логчески мы считаем бленками - None, np.nan, '')?\n",
    "\n",
    "df.isna().any().any()"
   ]
  },
  {
   "cell_type": "code",
   "execution_count": 27,
   "id": "80eee31a",
   "metadata": {},
   "outputs": [
    {
     "data": {
      "text/plain": [
       "Date                             0\n",
       "product_code                     0\n",
       "customer_code                    0\n",
       "sold_quantity                    0\n",
       "fiscal_year                      0\n",
       "division                         0\n",
       "segment                          0\n",
       "category                         0\n",
       "product                          0\n",
       "variant                          0\n",
       "customer                         0\n",
       "platform                         0\n",
       "channel                          0\n",
       "market                           0\n",
       "sub_zone                    156972\n",
       "region                      156972\n",
       "gross_price                      0\n",
       "cost_year                        0\n",
       "manufacturing_cost               0\n",
       "pre_invoice_discount_pct         0\n",
       "dtype: int64"
      ]
     },
     "execution_count": 27,
     "metadata": {},
     "output_type": "execute_result"
    }
   ],
   "source": [
    "# распределение бленков по колонкам\n",
    "\n",
    "df.isna().sum()"
   ]
  },
  {
   "cell_type": "code",
   "execution_count": 28,
   "id": "8db8847c",
   "metadata": {},
   "outputs": [
    {
     "data": {
      "text/plain": [
       "Date                         object\n",
       "product_code                 object\n",
       "customer_code                 int64\n",
       "sold_quantity                 int64\n",
       "fiscal_year                   int64\n",
       "division                     object\n",
       "segment                      object\n",
       "category                     object\n",
       "product                      object\n",
       "variant                      object\n",
       "customer                     object\n",
       "platform                     object\n",
       "channel                      object\n",
       "market                       object\n",
       "sub_zone                     object\n",
       "region                       object\n",
       "gross_price                 float64\n",
       "cost_year                     int64\n",
       "manufacturing_cost          float64\n",
       "pre_invoice_discount_pct    float64\n",
       "dtype: object"
      ]
     },
     "execution_count": 28,
     "metadata": {},
     "output_type": "execute_result"
    }
   ],
   "source": [
    "# обзор типов данных\n",
    "\n",
    "df.dtypes"
   ]
  },
  {
   "cell_type": "code",
   "execution_count": 29,
   "id": "20104e51",
   "metadata": {},
   "outputs": [
    {
     "data": {
      "text/plain": [
       "Date                         string\n",
       "product_code                 string\n",
       "customer_code                 Int64\n",
       "sold_quantity                 Int64\n",
       "fiscal_year                   Int64\n",
       "division                     string\n",
       "segment                      string\n",
       "category                     string\n",
       "product                      string\n",
       "variant                      string\n",
       "customer                     string\n",
       "platform                     string\n",
       "channel                      string\n",
       "market                       string\n",
       "sub_zone                     string\n",
       "region                       string\n",
       "gross_price                 Float64\n",
       "cost_year                     Int64\n",
       "manufacturing_cost          Float64\n",
       "pre_invoice_discount_pct    Float64\n",
       "dtype: object"
      ]
     },
     "execution_count": 29,
     "metadata": {},
     "output_type": "execute_result"
    }
   ],
   "source": [
    "# обзор типов данных\n",
    "\n",
    "df.convert_dtypes().dtypes"
   ]
  },
  {
   "cell_type": "code",
   "execution_count": 30,
   "id": "7402b12e",
   "metadata": {},
   "outputs": [
    {
     "name": "stdout",
     "output_type": "stream",
     "text": [
      "<class 'pandas.core.frame.DataFrame'>\n",
      "RangeIndex: 1048575 entries, 0 to 1048574\n",
      "Data columns (total 20 columns):\n",
      " #   Column                    Non-Null Count    Dtype  \n",
      "---  ------                    --------------    -----  \n",
      " 0   Date                      1048575 non-null  object \n",
      " 1   product_code              1048575 non-null  object \n",
      " 2   customer_code             1048575 non-null  int64  \n",
      " 3   sold_quantity             1048575 non-null  int64  \n",
      " 4   fiscal_year               1048575 non-null  int64  \n",
      " 5   division                  1048575 non-null  object \n",
      " 6   segment                   1048575 non-null  object \n",
      " 7   category                  1048575 non-null  object \n",
      " 8   product                   1048575 non-null  object \n",
      " 9   variant                   1048575 non-null  object \n",
      " 10  customer                  1048575 non-null  object \n",
      " 11  platform                  1048575 non-null  object \n",
      " 12  channel                   1048575 non-null  object \n",
      " 13  market                    1048575 non-null  object \n",
      " 14  sub_zone                  891603 non-null   object \n",
      " 15  region                    891603 non-null   object \n",
      " 16  gross_price               1048575 non-null  float64\n",
      " 17  cost_year                 1048575 non-null  int64  \n",
      " 18  manufacturing_cost        1048575 non-null  float64\n",
      " 19  pre_invoice_discount_pct  1048575 non-null  float64\n",
      "dtypes: float64(3), int64(4), object(13)\n",
      "memory usage: 1.0 GB\n"
     ]
    }
   ],
   "source": [
    "# memory usage: 1.0 GB !!!\n",
    "\n",
    "df.info(memory_usage='deep')"
   ]
  },
  {
   "cell_type": "code",
   "execution_count": 31,
   "id": "137ca36b",
   "metadata": {},
   "outputs": [
    {
     "data": {
      "text/plain": [
       "product                     0.19\n",
       "product_code                0.07\n",
       "segment                     0.07\n",
       "category                    0.07\n",
       "customer                    0.07\n",
       "platform                    0.07\n",
       "variant                     0.06\n",
       "division                    0.06\n",
       "Date                        0.06\n",
       "channel                     0.06\n",
       "market                      0.06\n",
       "region                      0.05\n",
       "sub_zone                    0.05\n",
       "manufacturing_cost          0.01\n",
       "cost_year                   0.01\n",
       "gross_price                 0.01\n",
       "pre_invoice_discount_pct    0.01\n",
       "fiscal_year                 0.01\n",
       "sold_quantity               0.01\n",
       "customer_code               0.01\n",
       "Index                       0.00\n",
       "dtype: float64"
      ]
     },
     "execution_count": 31,
     "metadata": {},
     "output_type": "execute_result"
    }
   ],
   "source": [
    "# распределение размера данных в долях по колонкам\n",
    "\n",
    "(df.memory_usage(deep=True) / df.memory_usage(deep=True).sum()).round(2).sort_values(ascending=False)"
   ]
  },
  {
   "cell_type": "code",
   "execution_count": null,
   "id": "32a15c77",
   "metadata": {},
   "outputs": [],
   "source": []
  },
  {
   "cell_type": "code",
   "execution_count": null,
   "id": "0db8e4f7",
   "metadata": {},
   "outputs": [],
   "source": []
  },
  {
   "cell_type": "code",
   "execution_count": null,
   "id": "b0af6e65",
   "metadata": {},
   "outputs": [],
   "source": []
  },
  {
   "cell_type": "markdown",
   "id": "94e0d5c1",
   "metadata": {},
   "source": [
    "# Архитектурный анализ таблицы"
   ]
  },
  {
   "cell_type": "code",
   "execution_count": 32,
   "id": "e6794c62",
   "metadata": {},
   "outputs": [
    {
     "data": {
      "text/html": [
       "<div>\n",
       "<style scoped>\n",
       "    .dataframe tbody tr th:only-of-type {\n",
       "        vertical-align: middle;\n",
       "    }\n",
       "\n",
       "    .dataframe tbody tr th {\n",
       "        vertical-align: top;\n",
       "    }\n",
       "\n",
       "    .dataframe thead th {\n",
       "        text-align: right;\n",
       "    }\n",
       "</style>\n",
       "<table border=\"1\" class=\"dataframe\">\n",
       "  <thead>\n",
       "    <tr style=\"text-align: right;\">\n",
       "      <th></th>\n",
       "      <th>Date</th>\n",
       "      <th>product_code</th>\n",
       "      <th>customer_code</th>\n",
       "      <th>sold_quantity</th>\n",
       "      <th>fiscal_year</th>\n",
       "      <th>division</th>\n",
       "      <th>segment</th>\n",
       "      <th>category</th>\n",
       "      <th>product</th>\n",
       "      <th>variant</th>\n",
       "      <th>customer</th>\n",
       "      <th>platform</th>\n",
       "      <th>channel</th>\n",
       "      <th>market</th>\n",
       "      <th>sub_zone</th>\n",
       "      <th>region</th>\n",
       "      <th>gross_price</th>\n",
       "      <th>cost_year</th>\n",
       "      <th>manufacturing_cost</th>\n",
       "      <th>pre_invoice_discount_pct</th>\n",
       "    </tr>\n",
       "  </thead>\n",
       "  <tbody>\n",
       "    <tr>\n",
       "      <th>0</th>\n",
       "      <td>01-09-2017</td>\n",
       "      <td>A0118150101</td>\n",
       "      <td>70002017</td>\n",
       "      <td>51</td>\n",
       "      <td>2018</td>\n",
       "      <td>P &amp; A</td>\n",
       "      <td>Peripherals</td>\n",
       "      <td>Internal HDD</td>\n",
       "      <td>AQ Dracula HDD � 3.5 Inch SATA 6 Gb/s 5400 RPM...</td>\n",
       "      <td>Standard</td>\n",
       "      <td>Atliq Exclusive</td>\n",
       "      <td>Brick &amp; Mortar</td>\n",
       "      <td>Direct</td>\n",
       "      <td>India</td>\n",
       "      <td>India</td>\n",
       "      <td>APAC</td>\n",
       "      <td>15.3952</td>\n",
       "      <td>2018</td>\n",
       "      <td>4.6190</td>\n",
       "      <td>0.0824</td>\n",
       "    </tr>\n",
       "    <tr>\n",
       "      <th>1</th>\n",
       "      <td>01-09-2017</td>\n",
       "      <td>A0118150101</td>\n",
       "      <td>70002017</td>\n",
       "      <td>51</td>\n",
       "      <td>2018</td>\n",
       "      <td>P &amp; A</td>\n",
       "      <td>Peripherals</td>\n",
       "      <td>Internal HDD</td>\n",
       "      <td>AQ Dracula HDD � 3.5 Inch SATA 6 Gb/s 5400 RPM...</td>\n",
       "      <td>Standard</td>\n",
       "      <td>Atliq Exclusive</td>\n",
       "      <td>Brick &amp; Mortar</td>\n",
       "      <td>Direct</td>\n",
       "      <td>India</td>\n",
       "      <td>India</td>\n",
       "      <td>APAC</td>\n",
       "      <td>15.3952</td>\n",
       "      <td>2019</td>\n",
       "      <td>4.2033</td>\n",
       "      <td>0.0824</td>\n",
       "    </tr>\n",
       "    <tr>\n",
       "      <th>2</th>\n",
       "      <td>01-09-2017</td>\n",
       "      <td>A0118150101</td>\n",
       "      <td>70002017</td>\n",
       "      <td>51</td>\n",
       "      <td>2018</td>\n",
       "      <td>P &amp; A</td>\n",
       "      <td>Peripherals</td>\n",
       "      <td>Internal HDD</td>\n",
       "      <td>AQ Dracula HDD � 3.5 Inch SATA 6 Gb/s 5400 RPM...</td>\n",
       "      <td>Standard</td>\n",
       "      <td>Atliq Exclusive</td>\n",
       "      <td>Brick &amp; Mortar</td>\n",
       "      <td>Direct</td>\n",
       "      <td>India</td>\n",
       "      <td>India</td>\n",
       "      <td>APAC</td>\n",
       "      <td>15.3952</td>\n",
       "      <td>2020</td>\n",
       "      <td>5.0207</td>\n",
       "      <td>0.0824</td>\n",
       "    </tr>\n",
       "    <tr>\n",
       "      <th>3</th>\n",
       "      <td>01-09-2017</td>\n",
       "      <td>A0118150101</td>\n",
       "      <td>70002017</td>\n",
       "      <td>51</td>\n",
       "      <td>2018</td>\n",
       "      <td>P &amp; A</td>\n",
       "      <td>Peripherals</td>\n",
       "      <td>Internal HDD</td>\n",
       "      <td>AQ Dracula HDD � 3.5 Inch SATA 6 Gb/s 5400 RPM...</td>\n",
       "      <td>Standard</td>\n",
       "      <td>Atliq Exclusive</td>\n",
       "      <td>Brick &amp; Mortar</td>\n",
       "      <td>Direct</td>\n",
       "      <td>India</td>\n",
       "      <td>India</td>\n",
       "      <td>APAC</td>\n",
       "      <td>15.3952</td>\n",
       "      <td>2021</td>\n",
       "      <td>5.5172</td>\n",
       "      <td>0.0824</td>\n",
       "    </tr>\n",
       "    <tr>\n",
       "      <th>4</th>\n",
       "      <td>01-09-2017</td>\n",
       "      <td>A0118150101</td>\n",
       "      <td>70002017</td>\n",
       "      <td>51</td>\n",
       "      <td>2018</td>\n",
       "      <td>P &amp; A</td>\n",
       "      <td>Peripherals</td>\n",
       "      <td>Internal HDD</td>\n",
       "      <td>AQ Dracula HDD � 3.5 Inch SATA 6 Gb/s 5400 RPM...</td>\n",
       "      <td>Standard</td>\n",
       "      <td>Atliq Exclusive</td>\n",
       "      <td>Brick &amp; Mortar</td>\n",
       "      <td>Direct</td>\n",
       "      <td>India</td>\n",
       "      <td>India</td>\n",
       "      <td>APAC</td>\n",
       "      <td>14.4392</td>\n",
       "      <td>2018</td>\n",
       "      <td>4.6190</td>\n",
       "      <td>0.0824</td>\n",
       "    </tr>\n",
       "  </tbody>\n",
       "</table>\n",
       "</div>"
      ],
      "text/plain": [
       "         Date product_code  customer_code  sold_quantity  fiscal_year  \\\n",
       "0  01-09-2017  A0118150101       70002017             51         2018   \n",
       "1  01-09-2017  A0118150101       70002017             51         2018   \n",
       "2  01-09-2017  A0118150101       70002017             51         2018   \n",
       "3  01-09-2017  A0118150101       70002017             51         2018   \n",
       "4  01-09-2017  A0118150101       70002017             51         2018   \n",
       "\n",
       "  division      segment      category  \\\n",
       "0    P & A  Peripherals  Internal HDD   \n",
       "1    P & A  Peripherals  Internal HDD   \n",
       "2    P & A  Peripherals  Internal HDD   \n",
       "3    P & A  Peripherals  Internal HDD   \n",
       "4    P & A  Peripherals  Internal HDD   \n",
       "\n",
       "                                             product   variant  \\\n",
       "0  AQ Dracula HDD � 3.5 Inch SATA 6 Gb/s 5400 RPM...  Standard   \n",
       "1  AQ Dracula HDD � 3.5 Inch SATA 6 Gb/s 5400 RPM...  Standard   \n",
       "2  AQ Dracula HDD � 3.5 Inch SATA 6 Gb/s 5400 RPM...  Standard   \n",
       "3  AQ Dracula HDD � 3.5 Inch SATA 6 Gb/s 5400 RPM...  Standard   \n",
       "4  AQ Dracula HDD � 3.5 Inch SATA 6 Gb/s 5400 RPM...  Standard   \n",
       "\n",
       "          customer        platform channel market sub_zone region  \\\n",
       "0  Atliq Exclusive  Brick & Mortar  Direct  India    India   APAC   \n",
       "1  Atliq Exclusive  Brick & Mortar  Direct  India    India   APAC   \n",
       "2  Atliq Exclusive  Brick & Mortar  Direct  India    India   APAC   \n",
       "3  Atliq Exclusive  Brick & Mortar  Direct  India    India   APAC   \n",
       "4  Atliq Exclusive  Brick & Mortar  Direct  India    India   APAC   \n",
       "\n",
       "   gross_price  cost_year  manufacturing_cost  pre_invoice_discount_pct  \n",
       "0      15.3952       2018              4.6190                    0.0824  \n",
       "1      15.3952       2019              4.2033                    0.0824  \n",
       "2      15.3952       2020              5.0207                    0.0824  \n",
       "3      15.3952       2021              5.5172                    0.0824  \n",
       "4      14.4392       2018              4.6190                    0.0824  "
      ]
     },
     "execution_count": 32,
     "metadata": {},
     "output_type": "execute_result"
    }
   ],
   "source": [
    "df.head(5)"
   ]
  },
  {
   "cell_type": "code",
   "execution_count": 33,
   "id": "e54fc426",
   "metadata": {},
   "outputs": [
    {
     "data": {
      "text/plain": [
       "1083801816"
      ]
     },
     "execution_count": 33,
     "metadata": {},
     "output_type": "execute_result"
    }
   ],
   "source": [
    "df.memory_usage(deep=True).sum()"
   ]
  },
  {
   "cell_type": "code",
   "execution_count": 71,
   "id": "b65bbf51",
   "metadata": {},
   "outputs": [
    {
     "name": "stdout",
     "output_type": "stream",
     "text": [
      "Wall time: 1.63 s\n"
     ]
    }
   ],
   "source": [
    "%%time\n",
    "# заменяем все на IDшники\n",
    "# архитектурный анализ не требует наличие конкретных данных, только ID\n",
    "# это кстати упрощает\n",
    "\n",
    "df = \\\n",
    "(df\n",
    " .apply(lambda s: s.factorize()[0])\n",
    " .astype('category')\n",
    " .apply(lambda s: \n",
    "                s.map(lambda el: np.nan if el == -1 else el)\n",
    "       )\n",
    ")"
   ]
  },
  {
   "cell_type": "code",
   "execution_count": 35,
   "id": "437a0ae7",
   "metadata": {},
   "outputs": [
    {
     "data": {
      "text/plain": [
       "38884923"
      ]
     },
     "execution_count": 35,
     "metadata": {},
     "output_type": "execute_result"
    }
   ],
   "source": [
    "df.memory_usage(deep=True).sum()"
   ]
  },
  {
   "cell_type": "code",
   "execution_count": 36,
   "id": "fcb5c168",
   "metadata": {},
   "outputs": [
    {
     "data": {
      "text/html": [
       "<div>\n",
       "<style scoped>\n",
       "    .dataframe tbody tr th:only-of-type {\n",
       "        vertical-align: middle;\n",
       "    }\n",
       "\n",
       "    .dataframe tbody tr th {\n",
       "        vertical-align: top;\n",
       "    }\n",
       "\n",
       "    .dataframe thead th {\n",
       "        text-align: right;\n",
       "    }\n",
       "</style>\n",
       "<table border=\"1\" class=\"dataframe\">\n",
       "  <thead>\n",
       "    <tr style=\"text-align: right;\">\n",
       "      <th></th>\n",
       "      <th>Date</th>\n",
       "      <th>product_code</th>\n",
       "      <th>customer_code</th>\n",
       "      <th>sold_quantity</th>\n",
       "      <th>fiscal_year</th>\n",
       "      <th>division</th>\n",
       "      <th>segment</th>\n",
       "      <th>category</th>\n",
       "      <th>product</th>\n",
       "      <th>variant</th>\n",
       "      <th>customer</th>\n",
       "      <th>platform</th>\n",
       "      <th>channel</th>\n",
       "      <th>market</th>\n",
       "      <th>sub_zone</th>\n",
       "      <th>region</th>\n",
       "      <th>gross_price</th>\n",
       "      <th>cost_year</th>\n",
       "      <th>manufacturing_cost</th>\n",
       "      <th>pre_invoice_discount_pct</th>\n",
       "    </tr>\n",
       "  </thead>\n",
       "  <tbody>\n",
       "    <tr>\n",
       "      <th>0</th>\n",
       "      <td>0</td>\n",
       "      <td>0</td>\n",
       "      <td>0</td>\n",
       "      <td>0</td>\n",
       "      <td>0</td>\n",
       "      <td>0</td>\n",
       "      <td>0</td>\n",
       "      <td>0</td>\n",
       "      <td>0</td>\n",
       "      <td>0</td>\n",
       "      <td>0</td>\n",
       "      <td>0</td>\n",
       "      <td>0</td>\n",
       "      <td>0</td>\n",
       "      <td>0.0</td>\n",
       "      <td>0.0</td>\n",
       "      <td>0</td>\n",
       "      <td>0</td>\n",
       "      <td>0</td>\n",
       "      <td>0</td>\n",
       "    </tr>\n",
       "    <tr>\n",
       "      <th>1</th>\n",
       "      <td>0</td>\n",
       "      <td>0</td>\n",
       "      <td>0</td>\n",
       "      <td>0</td>\n",
       "      <td>0</td>\n",
       "      <td>0</td>\n",
       "      <td>0</td>\n",
       "      <td>0</td>\n",
       "      <td>0</td>\n",
       "      <td>0</td>\n",
       "      <td>0</td>\n",
       "      <td>0</td>\n",
       "      <td>0</td>\n",
       "      <td>0</td>\n",
       "      <td>0.0</td>\n",
       "      <td>0.0</td>\n",
       "      <td>0</td>\n",
       "      <td>1</td>\n",
       "      <td>1</td>\n",
       "      <td>0</td>\n",
       "    </tr>\n",
       "    <tr>\n",
       "      <th>2</th>\n",
       "      <td>0</td>\n",
       "      <td>0</td>\n",
       "      <td>0</td>\n",
       "      <td>0</td>\n",
       "      <td>0</td>\n",
       "      <td>0</td>\n",
       "      <td>0</td>\n",
       "      <td>0</td>\n",
       "      <td>0</td>\n",
       "      <td>0</td>\n",
       "      <td>0</td>\n",
       "      <td>0</td>\n",
       "      <td>0</td>\n",
       "      <td>0</td>\n",
       "      <td>0.0</td>\n",
       "      <td>0.0</td>\n",
       "      <td>0</td>\n",
       "      <td>2</td>\n",
       "      <td>2</td>\n",
       "      <td>0</td>\n",
       "    </tr>\n",
       "    <tr>\n",
       "      <th>3</th>\n",
       "      <td>0</td>\n",
       "      <td>0</td>\n",
       "      <td>0</td>\n",
       "      <td>0</td>\n",
       "      <td>0</td>\n",
       "      <td>0</td>\n",
       "      <td>0</td>\n",
       "      <td>0</td>\n",
       "      <td>0</td>\n",
       "      <td>0</td>\n",
       "      <td>0</td>\n",
       "      <td>0</td>\n",
       "      <td>0</td>\n",
       "      <td>0</td>\n",
       "      <td>0.0</td>\n",
       "      <td>0.0</td>\n",
       "      <td>0</td>\n",
       "      <td>3</td>\n",
       "      <td>3</td>\n",
       "      <td>0</td>\n",
       "    </tr>\n",
       "    <tr>\n",
       "      <th>4</th>\n",
       "      <td>0</td>\n",
       "      <td>0</td>\n",
       "      <td>0</td>\n",
       "      <td>0</td>\n",
       "      <td>0</td>\n",
       "      <td>0</td>\n",
       "      <td>0</td>\n",
       "      <td>0</td>\n",
       "      <td>0</td>\n",
       "      <td>0</td>\n",
       "      <td>0</td>\n",
       "      <td>0</td>\n",
       "      <td>0</td>\n",
       "      <td>0</td>\n",
       "      <td>0.0</td>\n",
       "      <td>0.0</td>\n",
       "      <td>1</td>\n",
       "      <td>0</td>\n",
       "      <td>0</td>\n",
       "      <td>0</td>\n",
       "    </tr>\n",
       "  </tbody>\n",
       "</table>\n",
       "</div>"
      ],
      "text/plain": [
       "  Date product_code customer_code sold_quantity fiscal_year division segment  \\\n",
       "0    0            0             0             0           0        0       0   \n",
       "1    0            0             0             0           0        0       0   \n",
       "2    0            0             0             0           0        0       0   \n",
       "3    0            0             0             0           0        0       0   \n",
       "4    0            0             0             0           0        0       0   \n",
       "\n",
       "  category product variant customer platform channel market  sub_zone  region  \\\n",
       "0        0       0       0        0        0       0      0       0.0     0.0   \n",
       "1        0       0       0        0        0       0      0       0.0     0.0   \n",
       "2        0       0       0        0        0       0      0       0.0     0.0   \n",
       "3        0       0       0        0        0       0      0       0.0     0.0   \n",
       "4        0       0       0        0        0       0      0       0.0     0.0   \n",
       "\n",
       "  gross_price cost_year manufacturing_cost pre_invoice_discount_pct  \n",
       "0           0         0                  0                        0  \n",
       "1           0         1                  1                        0  \n",
       "2           0         2                  2                        0  \n",
       "3           0         3                  3                        0  \n",
       "4           1         0                  0                        0  "
      ]
     },
     "execution_count": 36,
     "metadata": {},
     "output_type": "execute_result"
    }
   ],
   "source": [
    "df.head(5)"
   ]
  },
  {
   "cell_type": "code",
   "execution_count": 72,
   "id": "9bbea389",
   "metadata": {},
   "outputs": [],
   "source": [
    "one_elem_cols = ['division', 'segment']\n",
    "unique_cols = [] # таких нет\n",
    "expert_del_cols = [] # не будет делать экспертных суждений\n",
    "# можно сделать предположения о ключах и о fd. Но мы просто сделаем анализ"
   ]
  },
  {
   "cell_type": "code",
   "execution_count": 73,
   "id": "8ca497cb",
   "metadata": {},
   "outputs": [
    {
     "name": "stdout",
     "output_type": "stream",
     "text": [
      "Wall time: 10.2 s\n"
     ]
    },
    {
     "data": {
      "text/plain": [
       "[('Date', 'fiscal_year'),\n",
       " ('gross_price', 'category'),\n",
       " ('manufacturing_cost', 'category'),\n",
       " ('product', 'category'),\n",
       " ('product_code', 'category'),\n",
       " ('variant', 'category'),\n",
       " ('customer_code', 'channel'),\n",
       " ('manufacturing_cost', 'cost_year'),\n",
       " ('customer_code', 'customer'),\n",
       " ('customer', 'platform'),\n",
       " ('customer_code', 'market'),\n",
       " ('customer_code', 'platform'),\n",
       " ('customer_code', 'region'),\n",
       " ('customer_code', 'sub_zone'),\n",
       " ('gross_price', 'product'),\n",
       " ('gross_price', 'product_code'),\n",
       " ('gross_price', 'variant'),\n",
       " ('market', 'region'),\n",
       " ('market', 'sub_zone'),\n",
       " ('product_code', 'product'),\n",
       " ('product_code', 'variant'),\n",
       " ('sub_zone', 'region')]"
      ]
     },
     "execution_count": 73,
     "metadata": {},
     "output_type": "execute_result"
    }
   ],
   "source": [
    "%%time\n",
    "\n",
    "# определяем все FD (источник и цель - по 1 колонке)\n",
    "\n",
    "l = get_all_df_len2(df[df.columns.difference(one_elem_cols)])\n",
    "l"
   ]
  },
  {
   "cell_type": "code",
   "execution_count": 75,
   "id": "6919ab77",
   "metadata": {},
   "outputs": [
    {
     "data": {
      "text/plain": [
       "'Digraph.gv.pdf'"
      ]
     },
     "execution_count": 75,
     "metadata": {},
     "output_type": "execute_result"
    }
   ],
   "source": [
    "# граф всех FD\n",
    "\n",
    "g = graphviz.Digraph()\n",
    "for edge in l:\n",
    "    g.edge(f'{edge[0]}', f'{edge[1]}')\n",
    "g.view()"
   ]
  },
  {
   "cell_type": "code",
   "execution_count": 76,
   "id": "9c5d7f3e",
   "metadata": {},
   "outputs": [],
   "source": [
    "# удаляем транзитивные зависимости через networkx, в одно действие\n",
    "# https://en.wikipedia.org/wiki/Transitive_reduction\n",
    "\n",
    "G = nx.DiGraph()\n",
    "G.add_edges_from(l)\n",
    "H = nx.transitive_reduction(G)\n",
    "l_tred = list(H.edges)"
   ]
  },
  {
   "cell_type": "code",
   "execution_count": 77,
   "id": "89ed132c",
   "metadata": {},
   "outputs": [
    {
     "data": {
      "text/plain": [
       "{('customer_code', 'platform'),\n",
       " ('customer_code', 'region'),\n",
       " ('customer_code', 'sub_zone'),\n",
       " ('gross_price', 'category'),\n",
       " ('gross_price', 'product'),\n",
       " ('gross_price', 'variant'),\n",
       " ('market', 'region'),\n",
       " ('product_code', 'category')}"
      ]
     },
     "execution_count": 77,
     "metadata": {},
     "output_type": "execute_result"
    }
   ],
   "source": [
    "# посмотрим, что удалили (все транзитивные зависимости)\n",
    "\n",
    "set(l) - set(l_tred)"
   ]
  },
  {
   "cell_type": "code",
   "execution_count": 80,
   "id": "78ccbeaa",
   "metadata": {},
   "outputs": [
    {
     "data": {
      "text/plain": [
       "'Digraph.gv.pdf'"
      ]
     },
     "execution_count": 80,
     "metadata": {},
     "output_type": "execute_result"
    }
   ],
   "source": [
    "# граф всех FD после tred - transitive reduction (более чистый граф, без лишней информации)\n",
    "\n",
    "g = graphviz.Digraph()\n",
    "for edge in l_tred:\n",
    "    g.edge(f'{edge[0]}', f'{edge[1]}')\n",
    "g.view()"
   ]
  },
  {
   "cell_type": "code",
   "execution_count": 43,
   "id": "d879c25a",
   "metadata": {},
   "outputs": [
    {
     "data": {
      "text/plain": [
       "12"
      ]
     },
     "execution_count": 43,
     "metadata": {},
     "output_type": "execute_result"
    }
   ],
   "source": [
    "# определяем колонки, которые можно не включать в проверку ключа изначально (networkx)\n",
    "# если колонка определяется от другой, то на первом этапе можно взять только источник fd\n",
    "# и ести источник по fd будет в ключе, то можно задаться вопросом по 'ослаблению', т.е. переходу по fd\n",
    "\n",
    "G = nx.DiGraph()\n",
    "G.add_edges_from(l_tred)\n",
    "d = dict(G.in_degree)\n",
    "d = toolz.dicttoolz.valfilter(lambda v: v != 0, d)\n",
    "cols_fd_dep = list(d.keys())\n",
    "len(cols_fd_dep)"
   ]
  },
  {
   "cell_type": "code",
   "execution_count": 44,
   "id": "ac88e4aa",
   "metadata": {},
   "outputs": [
    {
     "data": {
      "text/plain": [
       "['fiscal_year',\n",
       " 'product_code',\n",
       " 'cost_year',\n",
       " 'category',\n",
       " 'product',\n",
       " 'variant',\n",
       " 'market',\n",
       " 'channel',\n",
       " 'customer',\n",
       " 'platform',\n",
       " 'sub_zone',\n",
       " 'region']"
      ]
     },
     "execution_count": 44,
     "metadata": {},
     "output_type": "execute_result"
    }
   ],
   "source": [
    "# смотрим на колонки, которые можно убрать из анализа ключа\n",
    "\n",
    "cols_fd_dep"
   ]
  },
  {
   "cell_type": "code",
   "execution_count": 45,
   "id": "f6fff0f2",
   "metadata": {},
   "outputs": [],
   "source": [
    "# составляем df для проверки\n",
    "\n",
    "df_for_cand_find = df[df.columns.difference([*one_elem_cols, *cols_fd_dep])]"
   ]
  },
  {
   "cell_type": "code",
   "execution_count": 46,
   "id": "1a75ad37",
   "metadata": {},
   "outputs": [
    {
     "data": {
      "text/plain": [
       "(1048575, 6)"
      ]
     },
     "execution_count": 46,
     "metadata": {},
     "output_type": "execute_result"
    }
   ],
   "source": [
    "df_for_cand_find.shape"
   ]
  },
  {
   "cell_type": "code",
   "execution_count": 47,
   "id": "f5fe34a0",
   "metadata": {},
   "outputs": [
    {
     "data": {
      "text/html": [
       "<div>\n",
       "<style scoped>\n",
       "    .dataframe tbody tr th:only-of-type {\n",
       "        vertical-align: middle;\n",
       "    }\n",
       "\n",
       "    .dataframe tbody tr th {\n",
       "        vertical-align: top;\n",
       "    }\n",
       "\n",
       "    .dataframe thead th {\n",
       "        text-align: right;\n",
       "    }\n",
       "</style>\n",
       "<table border=\"1\" class=\"dataframe\">\n",
       "  <thead>\n",
       "    <tr style=\"text-align: right;\">\n",
       "      <th></th>\n",
       "      <th>Date</th>\n",
       "      <th>customer_code</th>\n",
       "      <th>gross_price</th>\n",
       "      <th>manufacturing_cost</th>\n",
       "      <th>pre_invoice_discount_pct</th>\n",
       "      <th>sold_quantity</th>\n",
       "    </tr>\n",
       "  </thead>\n",
       "  <tbody>\n",
       "    <tr>\n",
       "      <th>0</th>\n",
       "      <td>0</td>\n",
       "      <td>0</td>\n",
       "      <td>0</td>\n",
       "      <td>0</td>\n",
       "      <td>0</td>\n",
       "      <td>0</td>\n",
       "    </tr>\n",
       "    <tr>\n",
       "      <th>1</th>\n",
       "      <td>0</td>\n",
       "      <td>0</td>\n",
       "      <td>0</td>\n",
       "      <td>1</td>\n",
       "      <td>0</td>\n",
       "      <td>0</td>\n",
       "    </tr>\n",
       "    <tr>\n",
       "      <th>2</th>\n",
       "      <td>0</td>\n",
       "      <td>0</td>\n",
       "      <td>0</td>\n",
       "      <td>2</td>\n",
       "      <td>0</td>\n",
       "      <td>0</td>\n",
       "    </tr>\n",
       "    <tr>\n",
       "      <th>3</th>\n",
       "      <td>0</td>\n",
       "      <td>0</td>\n",
       "      <td>0</td>\n",
       "      <td>3</td>\n",
       "      <td>0</td>\n",
       "      <td>0</td>\n",
       "    </tr>\n",
       "    <tr>\n",
       "      <th>4</th>\n",
       "      <td>0</td>\n",
       "      <td>0</td>\n",
       "      <td>1</td>\n",
       "      <td>0</td>\n",
       "      <td>0</td>\n",
       "      <td>0</td>\n",
       "    </tr>\n",
       "  </tbody>\n",
       "</table>\n",
       "</div>"
      ],
      "text/plain": [
       "  Date customer_code gross_price manufacturing_cost pre_invoice_discount_pct  \\\n",
       "0    0             0           0                  0                        0   \n",
       "1    0             0           0                  1                        0   \n",
       "2    0             0           0                  2                        0   \n",
       "3    0             0           0                  3                        0   \n",
       "4    0             0           1                  0                        0   \n",
       "\n",
       "  sold_quantity  \n",
       "0             0  \n",
       "1             0  \n",
       "2             0  \n",
       "3             0  \n",
       "4             0  "
      ]
     },
     "execution_count": 47,
     "metadata": {},
     "output_type": "execute_result"
    }
   ],
   "source": [
    "df_for_cand_find.head(5)"
   ]
  },
  {
   "cell_type": "code",
   "execution_count": 48,
   "id": "1e1c0a87",
   "metadata": {},
   "outputs": [
    {
     "data": {
      "text/html": [
       "<div>\n",
       "<style scoped>\n",
       "    .dataframe tbody tr th:only-of-type {\n",
       "        vertical-align: middle;\n",
       "    }\n",
       "\n",
       "    .dataframe tbody tr th {\n",
       "        vertical-align: top;\n",
       "    }\n",
       "\n",
       "    .dataframe thead th {\n",
       "        text-align: right;\n",
       "    }\n",
       "</style>\n",
       "<table border=\"1\" class=\"dataframe\">\n",
       "  <thead>\n",
       "    <tr style=\"text-align: right;\">\n",
       "      <th></th>\n",
       "      <th>Date</th>\n",
       "      <th>customer_code</th>\n",
       "      <th>gross_price</th>\n",
       "      <th>manufacturing_cost</th>\n",
       "      <th>pre_invoice_discount_pct</th>\n",
       "      <th>sold_quantity</th>\n",
       "    </tr>\n",
       "  </thead>\n",
       "  <tbody>\n",
       "    <tr>\n",
       "      <th>987336</th>\n",
       "      <td>37</td>\n",
       "      <td>118</td>\n",
       "      <td>44</td>\n",
       "      <td>42</td>\n",
       "      <td>469</td>\n",
       "      <td>9</td>\n",
       "    </tr>\n",
       "    <tr>\n",
       "      <th>778312</th>\n",
       "      <td>46</td>\n",
       "      <td>205</td>\n",
       "      <td>29</td>\n",
       "      <td>29</td>\n",
       "      <td>550</td>\n",
       "      <td>23</td>\n",
       "    </tr>\n",
       "    <tr>\n",
       "      <th>686701</th>\n",
       "      <td>43</td>\n",
       "      <td>60</td>\n",
       "      <td>25</td>\n",
       "      <td>25</td>\n",
       "      <td>477</td>\n",
       "      <td>9</td>\n",
       "    </tr>\n",
       "    <tr>\n",
       "      <th>88182</th>\n",
       "      <td>44</td>\n",
       "      <td>140</td>\n",
       "      <td>1</td>\n",
       "      <td>2</td>\n",
       "      <td>513</td>\n",
       "      <td>66</td>\n",
       "    </tr>\n",
       "    <tr>\n",
       "      <th>103509</th>\n",
       "      <td>6</td>\n",
       "      <td>23</td>\n",
       "      <td>5</td>\n",
       "      <td>5</td>\n",
       "      <td>23</td>\n",
       "      <td>41</td>\n",
       "    </tr>\n",
       "  </tbody>\n",
       "</table>\n",
       "</div>"
      ],
      "text/plain": [
       "       Date customer_code gross_price manufacturing_cost  \\\n",
       "987336   37           118          44                 42   \n",
       "778312   46           205          29                 29   \n",
       "686701   43            60          25                 25   \n",
       "88182    44           140           1                  2   \n",
       "103509    6            23           5                  5   \n",
       "\n",
       "       pre_invoice_discount_pct sold_quantity  \n",
       "987336                      469             9  \n",
       "778312                      550            23  \n",
       "686701                      477             9  \n",
       "88182                       513            66  \n",
       "103509                       23            41  "
      ]
     },
     "execution_count": 48,
     "metadata": {},
     "output_type": "execute_result"
    }
   ],
   "source": [
    "df_for_cand_find.sample(5)"
   ]
  },
  {
   "cell_type": "code",
   "execution_count": 49,
   "id": "5db6f454",
   "metadata": {},
   "outputs": [
    {
     "name": "stdout",
     "output_type": "stream",
     "text": [
      "Wall time: 217 ms\n"
     ]
    },
    {
     "data": {
      "text/plain": [
       "[]"
      ]
     },
     "execution_count": 49,
     "metadata": {},
     "output_type": "execute_result"
    }
   ],
   "source": [
    "%%time\n",
    "\n",
    "get_candidates(df_for_cand_find, 1)"
   ]
  },
  {
   "cell_type": "code",
   "execution_count": 50,
   "id": "055b6f40",
   "metadata": {},
   "outputs": [
    {
     "name": "stdout",
     "output_type": "stream",
     "text": [
      "Wall time: 6.89 s\n"
     ]
    }
   ],
   "source": [
    "%%time\n",
    "\n",
    "l = []\n",
    "for n in range(1, 5+1):\n",
    "    l.append(get_candidates(df_for_cand_find, n))"
   ]
  },
  {
   "cell_type": "code",
   "execution_count": 51,
   "id": "8f1adc24",
   "metadata": {},
   "outputs": [
    {
     "data": {
      "text/plain": [
       "[(1, []),\n",
       " (2, []),\n",
       " (3, []),\n",
       " (4, [['Date', 'customer_code', 'gross_price', 'manufacturing_cost']]),\n",
       " (5,\n",
       "  [['Date',\n",
       "    'customer_code',\n",
       "    'gross_price',\n",
       "    'manufacturing_cost',\n",
       "    'pre_invoice_discount_pct'],\n",
       "   ['Date',\n",
       "    'customer_code',\n",
       "    'gross_price',\n",
       "    'manufacturing_cost',\n",
       "    'sold_quantity']])]"
      ]
     },
     "execution_count": 51,
     "metadata": {},
     "output_type": "execute_result"
    }
   ],
   "source": [
    "list(enumerate(l, start=1))"
   ]
  },
  {
   "cell_type": "code",
   "execution_count": null,
   "id": "6795f13c",
   "metadata": {},
   "outputs": [],
   "source": []
  },
  {
   "cell_type": "code",
   "execution_count": null,
   "id": "a902aa38",
   "metadata": {},
   "outputs": [],
   "source": []
  },
  {
   "cell_type": "code",
   "execution_count": null,
   "id": "8e158c9f",
   "metadata": {},
   "outputs": [],
   "source": []
  },
  {
   "cell_type": "markdown",
   "id": "0410ef1c",
   "metadata": {},
   "source": [
    "# Фокусный анализ fd"
   ]
  },
  {
   "cell_type": "code",
   "execution_count": 55,
   "id": "ec70bff4",
   "metadata": {},
   "outputs": [],
   "source": [
    "# переходим обратно к обычном представлению таблицы\n",
    "df = Sales_domain.copy()"
   ]
  },
  {
   "cell_type": "code",
   "execution_count": 56,
   "id": "451aa86f",
   "metadata": {},
   "outputs": [
    {
     "data": {
      "text/html": [
       "<div>\n",
       "<style scoped>\n",
       "    .dataframe tbody tr th:only-of-type {\n",
       "        vertical-align: middle;\n",
       "    }\n",
       "\n",
       "    .dataframe tbody tr th {\n",
       "        vertical-align: top;\n",
       "    }\n",
       "\n",
       "    .dataframe thead th {\n",
       "        text-align: right;\n",
       "    }\n",
       "</style>\n",
       "<table border=\"1\" class=\"dataframe\">\n",
       "  <thead>\n",
       "    <tr style=\"text-align: right;\">\n",
       "      <th></th>\n",
       "      <th>Date</th>\n",
       "      <th>product_code</th>\n",
       "      <th>customer_code</th>\n",
       "      <th>sold_quantity</th>\n",
       "      <th>fiscal_year</th>\n",
       "      <th>division</th>\n",
       "      <th>segment</th>\n",
       "      <th>category</th>\n",
       "      <th>product</th>\n",
       "      <th>variant</th>\n",
       "      <th>customer</th>\n",
       "      <th>platform</th>\n",
       "      <th>channel</th>\n",
       "      <th>market</th>\n",
       "      <th>sub_zone</th>\n",
       "      <th>region</th>\n",
       "      <th>gross_price</th>\n",
       "      <th>cost_year</th>\n",
       "      <th>manufacturing_cost</th>\n",
       "      <th>pre_invoice_discount_pct</th>\n",
       "    </tr>\n",
       "  </thead>\n",
       "  <tbody>\n",
       "    <tr>\n",
       "      <th>660125</th>\n",
       "      <td>01-05-2020</td>\n",
       "      <td>A0219150202</td>\n",
       "      <td>90021089</td>\n",
       "      <td>5</td>\n",
       "      <td>2020</td>\n",
       "      <td>P &amp; A</td>\n",
       "      <td>Peripherals</td>\n",
       "      <td>Internal HDD</td>\n",
       "      <td>AQ WereWolf NAS Internal Hard Drive HDD � 8.89 cm</td>\n",
       "      <td>Plus</td>\n",
       "      <td>Atlas Stores</td>\n",
       "      <td>Brick &amp; Mortar</td>\n",
       "      <td>Retailer</td>\n",
       "      <td>United Kingdom</td>\n",
       "      <td>NE</td>\n",
       "      <td>EU</td>\n",
       "      <td>25.1517</td>\n",
       "      <td>2022</td>\n",
       "      <td>7.2751</td>\n",
       "      <td>0.2089</td>\n",
       "    </tr>\n",
       "    <tr>\n",
       "      <th>508916</th>\n",
       "      <td>01-09-2021</td>\n",
       "      <td>A0118150104</td>\n",
       "      <td>70013125</td>\n",
       "      <td>89</td>\n",
       "      <td>2022</td>\n",
       "      <td>P &amp; A</td>\n",
       "      <td>Peripherals</td>\n",
       "      <td>Internal HDD</td>\n",
       "      <td>AQ Dracula HDD � 3.5 Inch SATA 6 Gb/s 5400 RPM...</td>\n",
       "      <td>Premium Plus</td>\n",
       "      <td>Atliq Exclusive</td>\n",
       "      <td>Brick &amp; Mortar</td>\n",
       "      <td>Direct</td>\n",
       "      <td>Italy</td>\n",
       "      <td>SE</td>\n",
       "      <td>EU</td>\n",
       "      <td>20.7734</td>\n",
       "      <td>2021</td>\n",
       "      <td>6.8199</td>\n",
       "      <td>0.0738</td>\n",
       "    </tr>\n",
       "    <tr>\n",
       "      <th>12822</th>\n",
       "      <td>01-07-2018</td>\n",
       "      <td>A0118150101</td>\n",
       "      <td>90022077</td>\n",
       "      <td>7</td>\n",
       "      <td>2018</td>\n",
       "      <td>P &amp; A</td>\n",
       "      <td>Peripherals</td>\n",
       "      <td>Internal HDD</td>\n",
       "      <td>AQ Dracula HDD � 3.5 Inch SATA 6 Gb/s 5400 RPM...</td>\n",
       "      <td>Standard</td>\n",
       "      <td>Radio Shack</td>\n",
       "      <td>Brick &amp; Mortar</td>\n",
       "      <td>Retailer</td>\n",
       "      <td>USA</td>\n",
       "      <td>NaN</td>\n",
       "      <td>NaN</td>\n",
       "      <td>14.4392</td>\n",
       "      <td>2020</td>\n",
       "      <td>5.0207</td>\n",
       "      <td>0.2394</td>\n",
       "    </tr>\n",
       "  </tbody>\n",
       "</table>\n",
       "</div>"
      ],
      "text/plain": [
       "              Date product_code  customer_code  sold_quantity  fiscal_year  \\\n",
       "660125  01-05-2020  A0219150202       90021089              5         2020   \n",
       "508916  01-09-2021  A0118150104       70013125             89         2022   \n",
       "12822   01-07-2018  A0118150101       90022077              7         2018   \n",
       "\n",
       "       division      segment      category  \\\n",
       "660125    P & A  Peripherals  Internal HDD   \n",
       "508916    P & A  Peripherals  Internal HDD   \n",
       "12822     P & A  Peripherals  Internal HDD   \n",
       "\n",
       "                                                  product       variant  \\\n",
       "660125  AQ WereWolf NAS Internal Hard Drive HDD � 8.89 cm          Plus   \n",
       "508916  AQ Dracula HDD � 3.5 Inch SATA 6 Gb/s 5400 RPM...  Premium Plus   \n",
       "12822   AQ Dracula HDD � 3.5 Inch SATA 6 Gb/s 5400 RPM...      Standard   \n",
       "\n",
       "               customer        platform   channel          market sub_zone  \\\n",
       "660125     Atlas Stores  Brick & Mortar  Retailer  United Kingdom       NE   \n",
       "508916  Atliq Exclusive  Brick & Mortar    Direct           Italy       SE   \n",
       "12822       Radio Shack  Brick & Mortar  Retailer             USA      NaN   \n",
       "\n",
       "       region  gross_price  cost_year  manufacturing_cost  \\\n",
       "660125     EU      25.1517       2022              7.2751   \n",
       "508916     EU      20.7734       2021              6.8199   \n",
       "12822     NaN      14.4392       2020              5.0207   \n",
       "\n",
       "        pre_invoice_discount_pct  \n",
       "660125                    0.2089  \n",
       "508916                    0.0738  \n",
       "12822                     0.2394  "
      ]
     },
     "execution_count": 56,
     "metadata": {},
     "output_type": "execute_result"
    }
   ],
   "source": [
    "df.sample(3)"
   ]
  },
  {
   "cell_type": "code",
   "execution_count": 57,
   "id": "2f300aa7",
   "metadata": {
    "scrolled": false
   },
   "outputs": [
    {
     "data": {
      "text/html": [
       "<div>\n",
       "<style scoped>\n",
       "    .dataframe tbody tr th:only-of-type {\n",
       "        vertical-align: middle;\n",
       "    }\n",
       "\n",
       "    .dataframe tbody tr th {\n",
       "        vertical-align: top;\n",
       "    }\n",
       "\n",
       "    .dataframe thead th {\n",
       "        text-align: right;\n",
       "    }\n",
       "</style>\n",
       "<table border=\"1\" class=\"dataframe\">\n",
       "  <thead>\n",
       "    <tr style=\"text-align: right;\">\n",
       "      <th></th>\n",
       "      <th>853681</th>\n",
       "      <th>480848</th>\n",
       "      <th>933138</th>\n",
       "    </tr>\n",
       "  </thead>\n",
       "  <tbody>\n",
       "    <tr>\n",
       "      <th>Date</th>\n",
       "      <td>01-11-2018</td>\n",
       "      <td>01-01-2021</td>\n",
       "      <td>01-07-2019</td>\n",
       "    </tr>\n",
       "    <tr>\n",
       "      <th>product_code</th>\n",
       "      <td>A0418150102</td>\n",
       "      <td>A0118150104</td>\n",
       "      <td>A0418150103</td>\n",
       "    </tr>\n",
       "    <tr>\n",
       "      <th>customer_code</th>\n",
       "      <td>90022072</td>\n",
       "      <td>90023029</td>\n",
       "      <td>90016171</td>\n",
       "    </tr>\n",
       "    <tr>\n",
       "      <th>sold_quantity</th>\n",
       "      <td>94</td>\n",
       "      <td>16</td>\n",
       "      <td>1</td>\n",
       "    </tr>\n",
       "    <tr>\n",
       "      <th>fiscal_year</th>\n",
       "      <td>2019</td>\n",
       "      <td>2021</td>\n",
       "      <td>2019</td>\n",
       "    </tr>\n",
       "    <tr>\n",
       "      <th>division</th>\n",
       "      <td>P &amp; A</td>\n",
       "      <td>P &amp; A</td>\n",
       "      <td>P &amp; A</td>\n",
       "    </tr>\n",
       "    <tr>\n",
       "      <th>segment</th>\n",
       "      <td>Peripherals</td>\n",
       "      <td>Peripherals</td>\n",
       "      <td>Peripherals</td>\n",
       "    </tr>\n",
       "    <tr>\n",
       "      <th>category</th>\n",
       "      <td>Graphic Card</td>\n",
       "      <td>Internal HDD</td>\n",
       "      <td>Graphic Card</td>\n",
       "    </tr>\n",
       "    <tr>\n",
       "      <th>product</th>\n",
       "      <td>AQ Mforce Gen X</td>\n",
       "      <td>AQ Dracula HDD �...</td>\n",
       "      <td>AQ Mforce Gen X</td>\n",
       "    </tr>\n",
       "    <tr>\n",
       "      <th>variant</th>\n",
       "      <td>Standard 2</td>\n",
       "      <td>Premium Plus</td>\n",
       "      <td>Standard 3</td>\n",
       "    </tr>\n",
       "    <tr>\n",
       "      <th>customer</th>\n",
       "      <td>Path</td>\n",
       "      <td>Staples</td>\n",
       "      <td>Electricalsara S...</td>\n",
       "    </tr>\n",
       "    <tr>\n",
       "      <th>platform</th>\n",
       "      <td>Brick &amp; Mortar</td>\n",
       "      <td>Brick &amp; Mortar</td>\n",
       "      <td>Brick &amp; Mortar</td>\n",
       "    </tr>\n",
       "    <tr>\n",
       "      <th>channel</th>\n",
       "      <td>Retailer</td>\n",
       "      <td>Retailer</td>\n",
       "      <td>Retailer</td>\n",
       "    </tr>\n",
       "    <tr>\n",
       "      <th>market</th>\n",
       "      <td>USA</td>\n",
       "      <td>Canada</td>\n",
       "      <td>Poland</td>\n",
       "    </tr>\n",
       "    <tr>\n",
       "      <th>sub_zone</th>\n",
       "      <td>NaN</td>\n",
       "      <td>NaN</td>\n",
       "      <td>NE</td>\n",
       "    </tr>\n",
       "    <tr>\n",
       "      <th>region</th>\n",
       "      <td>NaN</td>\n",
       "      <td>NaN</td>\n",
       "      <td>EU</td>\n",
       "    </tr>\n",
       "    <tr>\n",
       "      <th>gross_price</th>\n",
       "      <td>16.6281</td>\n",
       "      <td>23.6298</td>\n",
       "      <td>17.4436</td>\n",
       "    </tr>\n",
       "    <tr>\n",
       "      <th>cost_year</th>\n",
       "      <td>2018</td>\n",
       "      <td>2018</td>\n",
       "      <td>2021</td>\n",
       "    </tr>\n",
       "    <tr>\n",
       "      <th>manufacturing_cost</th>\n",
       "      <td>5.0082</td>\n",
       "      <td>5.8958</td>\n",
       "      <td>5.7471</td>\n",
       "    </tr>\n",
       "    <tr>\n",
       "      <th>pre_invoice_discount_pct</th>\n",
       "      <td>0.2795</td>\n",
       "      <td>0.2506</td>\n",
       "      <td>0.3038</td>\n",
       "    </tr>\n",
       "  </tbody>\n",
       "</table>\n",
       "</div>"
      ],
      "text/plain": [
       "                               853681               480848  \\\n",
       "Date                       01-11-2018           01-01-2021   \n",
       "product_code              A0418150102          A0118150104   \n",
       "customer_code                90022072             90023029   \n",
       "sold_quantity                      94                   16   \n",
       "fiscal_year                      2019                 2021   \n",
       "division                        P & A                P & A   \n",
       "segment                   Peripherals          Peripherals   \n",
       "category                 Graphic Card         Internal HDD   \n",
       "product               AQ Mforce Gen X  AQ Dracula HDD �...   \n",
       "variant                    Standard 2         Premium Plus   \n",
       "customer                         Path              Staples   \n",
       "platform               Brick & Mortar       Brick & Mortar   \n",
       "channel                      Retailer             Retailer   \n",
       "market                            USA               Canada   \n",
       "sub_zone                          NaN                  NaN   \n",
       "region                            NaN                  NaN   \n",
       "gross_price                   16.6281              23.6298   \n",
       "cost_year                        2018                 2018   \n",
       "manufacturing_cost             5.0082               5.8958   \n",
       "pre_invoice_disco...           0.2795               0.2506   \n",
       "\n",
       "                                   933138  \n",
       "Date                           01-07-2019  \n",
       "product_code                  A0418150103  \n",
       "customer_code                    90016171  \n",
       "sold_quantity                           1  \n",
       "fiscal_year                          2019  \n",
       "division                            P & A  \n",
       "segment                       Peripherals  \n",
       "category                     Graphic Card  \n",
       "product                   AQ Mforce Gen X  \n",
       "variant                        Standard 3  \n",
       "customer              Electricalsara S...  \n",
       "platform                   Brick & Mortar  \n",
       "channel                          Retailer  \n",
       "market                             Poland  \n",
       "sub_zone                               NE  \n",
       "region                                 EU  \n",
       "gross_price                       17.4436  \n",
       "cost_year                            2021  \n",
       "manufacturing_cost                 5.7471  \n",
       "pre_invoice_disco...               0.3038  "
      ]
     },
     "metadata": {},
     "output_type": "display_data"
    }
   ],
   "source": [
    "with pd.option_context('max_colwidth', 20):\n",
    "    display(df.sample(3).T)"
   ]
  },
  {
   "cell_type": "code",
   "execution_count": 58,
   "id": "7080b2ba",
   "metadata": {},
   "outputs": [
    {
     "data": {
      "text/plain": [
       "({1: 52}, {4: 1, 12: 4}, 1.0, 0.0, 0.2)"
      ]
     },
     "execution_count": 58,
     "metadata": {},
     "output_type": "execute_result"
    }
   ],
   "source": [
    "# анализ связи между двумя колонками\n",
    "\n",
    "get_relation_analysis(df, 'Date', 'fiscal_year')"
   ]
  },
  {
   "cell_type": "code",
   "execution_count": 59,
   "id": "6d14fff7",
   "metadata": {},
   "outputs": [
    {
     "data": {
      "text/plain": [
       "({5: 52}, {52: 5}, 0.0, 0.0, 1.0)"
      ]
     },
     "execution_count": 59,
     "metadata": {},
     "output_type": "execute_result"
    }
   ],
   "source": [
    "get_relation_analysis(df, 'Date', 'cost_year')"
   ]
  },
  {
   "cell_type": "code",
   "execution_count": 60,
   "id": "052f1a7d",
   "metadata": {},
   "outputs": [
    {
     "data": {
      "text/plain": [
       "({1: 14}, {3: 2, 4: 2}, 1.0, 0.0, 0.25)"
      ]
     },
     "execution_count": 60,
     "metadata": {},
     "output_type": "execute_result"
    }
   ],
   "source": [
    "get_relation_analysis(df, 'product_code', 'product')"
   ]
  },
  {
   "cell_type": "code",
   "execution_count": 61,
   "id": "1325f1d3",
   "metadata": {},
   "outputs": [
    {
     "data": {
      "text/plain": [
       "({1: 25}, {4: 1, 10: 1, 11: 1}, 1.0, 0.0, 0.333)"
      ]
     },
     "execution_count": 61,
     "metadata": {},
     "output_type": "execute_result"
    }
   ],
   "source": [
    "get_relation_analysis(df, 'market', 'region')"
   ]
  },
  {
   "cell_type": "code",
   "execution_count": 62,
   "id": "c5fd99ce",
   "metadata": {},
   "outputs": [
    {
     "data": {
      "text/plain": [
       "({2: 1, 3: 1}, {1: 1, 2: 2}, 0.0, 0.3, 0.833)"
      ]
     },
     "execution_count": 62,
     "metadata": {},
     "output_type": "execute_result"
    }
   ],
   "source": [
    "get_relation_analysis(df, 'platform', 'channel')"
   ]
  },
  {
   "cell_type": "code",
   "execution_count": 63,
   "id": "ca892924",
   "metadata": {},
   "outputs": [
    {
     "data": {
      "text/plain": [
       "({1: 209},\n",
       " {1: 19, 2: 39, 3: 11, 4: 2, 5: 1, 17: 1, 24: 1, 25: 1},\n",
       " 1.0,\n",
       " 0.3,\n",
       " 0.013)"
      ]
     },
     "execution_count": 63,
     "metadata": {},
     "output_type": "execute_result"
    }
   ],
   "source": [
    "get_relation_analysis(df, 'customer_code', 'customer')"
   ]
  },
  {
   "cell_type": "code",
   "execution_count": null,
   "id": "c1168197",
   "metadata": {},
   "outputs": [],
   "source": []
  },
  {
   "cell_type": "code",
   "execution_count": null,
   "id": "b83a146e",
   "metadata": {},
   "outputs": [],
   "source": []
  },
  {
   "cell_type": "code",
   "execution_count": null,
   "id": "908189fc",
   "metadata": {},
   "outputs": [],
   "source": []
  },
  {
   "cell_type": "markdown",
   "id": "5d6550ed",
   "metadata": {},
   "source": [
    "# Прочее"
   ]
  },
  {
   "cell_type": "code",
   "execution_count": 64,
   "id": "7577ccf1",
   "metadata": {},
   "outputs": [
    {
     "name": "stdout",
     "output_type": "stream",
     "text": [
      "Wall time: 19.2 s\n"
     ]
    },
    {
     "data": {
      "text/plain": [
       "(0, 0, 0, 0, 0, 0, 0, 0, 0, 0, 0, 0, 0, 0, 0, 0, 0, 0, 0, 0)    891603\n",
       "(0, 0, 0, 0, 0, 0, 0, 0, 0, 0, 0, 0, 0, 0, 1, 1, 0, 0, 0, 0)    156972\n",
       "dtype: int64"
      ]
     },
     "execution_count": 64,
     "metadata": {},
     "output_type": "execute_result"
    }
   ],
   "source": [
    "%%time\n",
    "# анализ сочетаний бленк/элемент\n",
    "\n",
    "data_model(df)"
   ]
  },
  {
   "cell_type": "code",
   "execution_count": null,
   "id": "9c4949ad",
   "metadata": {},
   "outputs": [],
   "source": []
  },
  {
   "cell_type": "code",
   "execution_count": 65,
   "id": "09697a44",
   "metadata": {},
   "outputs": [
    {
     "name": "stdout",
     "output_type": "stream",
     "text": [
      "Date sub_zone no blank False\n",
      "Date region no blank False\n",
      "product_code sub_zone no blank False\n",
      "product_code region no blank False\n",
      "sold_quantity sub_zone no blank False\n",
      "sold_quantity region no blank False\n",
      "fiscal_year sub_zone no blank False\n",
      "fiscal_year region no blank False\n",
      "division sub_zone no blank False\n",
      "division region no blank False\n",
      "segment sub_zone no blank False\n",
      "segment region no blank False\n",
      "category sub_zone no blank False\n",
      "category region no blank False\n",
      "product sub_zone no blank False\n",
      "product region no blank False\n",
      "variant sub_zone no blank False\n",
      "variant region no blank False\n",
      "customer sub_zone no blank False\n",
      "customer region no blank False\n",
      "platform sub_zone no blank False\n",
      "platform region no blank False\n",
      "channel sub_zone no blank False\n",
      "channel region no blank False\n",
      "sub_zone region False False\n",
      "sub_zone gross_price False no blank\n",
      "sub_zone cost_year False no blank\n",
      "sub_zone manufacturing_cost False no blank\n",
      "sub_zone pre_invoice_discount_pct False no blank\n",
      "region gross_price False no blank\n",
      "region cost_year False no blank\n",
      "region manufacturing_cost False no blank\n",
      "region pre_invoice_discount_pct False no blank\n",
      "Wall time: 1min 3s\n"
     ]
    }
   ],
   "source": [
    "%%time\n",
    "# обзор типов хвостов\n",
    "\n",
    "for x, y in combinations(df.columns, 2):\n",
    "    x_ = classic_blanks(df, x, y)[0]\n",
    "    y_ = classic_blanks(df, x, y)[1]\n",
    "    if x_ == False or y_ == False:\n",
    "        print(x, y, x_, y_)"
   ]
  },
  {
   "cell_type": "code",
   "execution_count": null,
   "id": "90f19e70",
   "metadata": {},
   "outputs": [],
   "source": []
  },
  {
   "cell_type": "code",
   "execution_count": 66,
   "id": "d380a0e0",
   "metadata": {},
   "outputs": [
    {
     "name": "stdout",
     "output_type": "stream",
     "text": [
      "Wall time: 1.02 s\n"
     ]
    },
    {
     "data": {
      "text/plain": [
       "{'Date': 1007628,\n",
       " 'customer_code': 1040504,\n",
       " 'gross_price': 798133,\n",
       " 'manufacturing_cost': 793846}"
      ]
     },
     "execution_count": 66,
     "metadata": {},
     "output_type": "execute_result"
    }
   ],
   "source": [
    "%%time\n",
    "# анализируем ключ длиной 4\n",
    "# оценка значимости колонке в ключе\n",
    "\n",
    "unique_drop(df[['Date', 'customer_code', 'gross_price', 'manufacturing_cost']])"
   ]
  },
  {
   "cell_type": "code",
   "execution_count": null,
   "id": "faec7166",
   "metadata": {},
   "outputs": [],
   "source": []
  },
  {
   "cell_type": "code",
   "execution_count": null,
   "id": "d5255134",
   "metadata": {},
   "outputs": [],
   "source": []
  },
  {
   "cell_type": "code",
   "execution_count": null,
   "id": "3bb0505b",
   "metadata": {},
   "outputs": [],
   "source": []
  }
 ],
 "metadata": {
  "kernelspec": {
   "display_name": "Python 3",
   "language": "python",
   "name": "python3"
  },
  "language_info": {
   "codemirror_mode": {
    "name": "ipython",
    "version": 3
   },
   "file_extension": ".py",
   "mimetype": "text/x-python",
   "name": "python",
   "nbconvert_exporter": "python",
   "pygments_lexer": "ipython3",
   "version": "3.8.8"
  }
 },
 "nbformat": 4,
 "nbformat_minor": 5
}
